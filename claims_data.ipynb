{
 "cells": [
  {
   "cell_type": "code",
   "execution_count": 128,
   "id": "22878a3b",
   "metadata": {},
   "outputs": [],
   "source": [
    "import numpy as np \n",
    "import pandas as pd \n",
    "import matplotlib.pyplot as plt\n",
    "import seaborn as sns\n",
    "from statsmodels.tsa.stattools import adfuller\n",
    "from statsmodels.tsa.arima.model import ARIMA"
   ]
  },
  {
   "cell_type": "code",
   "execution_count": 136,
   "id": "58c3595c",
   "metadata": {},
   "outputs": [
    {
     "name": "stdout",
     "output_type": "stream",
     "text": [
      "        MONTH SERVICE_CATEGORY     CLAIM_SPECIALTY    PAYER  PAID_AMOUNT\n",
      "0      201801     AncillaryFFS                 NaN  Payer F         4281\n",
      "1      201801     AncillaryFFS                 NaN  Payer H         2221\n",
      "2      201801     AncillaryFFS                 NaN  Payer O         3937\n",
      "3      201801     AncillaryFFS                 NaN  Payer W          268\n",
      "4      201801     AncillaryFFS                 ACH  Payer W          151\n",
      "...       ...              ...                 ...      ...          ...\n",
      "52147  202007   SpecialistsFFS  RADIATION ONCOLOGY  Payer F          869\n",
      "52148  202007   SpecialistsFFS    REGISTERED NURSE  Payer H           99\n",
      "52149  202007   SpecialistsFFS        RHEUMATOLOGY  Payer F          536\n",
      "52150  202007   SpecialistsFFS    SPECIAL SERVICES  Payer H         1064\n",
      "52151  202007   SpecialistsFFS             UROLOGY  Payer F         2356\n",
      "\n",
      "[52152 rows x 5 columns]\n"
     ]
    }
   ],
   "source": [
    "df = pd.read_csv('claims_data.csv')\n",
    "df = df.drop_duplicates()\n",
    "print(df)"
   ]
  },
  {
   "cell_type": "code",
   "execution_count": 130,
   "id": "8231a703",
   "metadata": {},
   "outputs": [
    {
     "data": {
      "text/html": [
       "<div>\n",
       "<style scoped>\n",
       "    .dataframe tbody tr th:only-of-type {\n",
       "        vertical-align: middle;\n",
       "    }\n",
       "\n",
       "    .dataframe tbody tr th {\n",
       "        vertical-align: top;\n",
       "    }\n",
       "\n",
       "    .dataframe thead th {\n",
       "        text-align: right;\n",
       "    }\n",
       "</style>\n",
       "<table border=\"1\" class=\"dataframe\">\n",
       "  <thead>\n",
       "    <tr style=\"text-align: right;\">\n",
       "      <th></th>\n",
       "      <th>MONTH</th>\n",
       "      <th>SERVICE_CATEGORY</th>\n",
       "      <th>CLAIM_SPECIALTY</th>\n",
       "      <th>PAYER</th>\n",
       "      <th>PAID_AMOUNT</th>\n",
       "    </tr>\n",
       "  </thead>\n",
       "  <tbody>\n",
       "    <tr>\n",
       "      <th>0</th>\n",
       "      <td>201801</td>\n",
       "      <td>AncillaryFFS</td>\n",
       "      <td>NaN</td>\n",
       "      <td>Payer F</td>\n",
       "      <td>4281</td>\n",
       "    </tr>\n",
       "    <tr>\n",
       "      <th>1</th>\n",
       "      <td>201801</td>\n",
       "      <td>AncillaryFFS</td>\n",
       "      <td>NaN</td>\n",
       "      <td>Payer H</td>\n",
       "      <td>2221</td>\n",
       "    </tr>\n",
       "    <tr>\n",
       "      <th>2</th>\n",
       "      <td>201801</td>\n",
       "      <td>AncillaryFFS</td>\n",
       "      <td>NaN</td>\n",
       "      <td>Payer O</td>\n",
       "      <td>3937</td>\n",
       "    </tr>\n",
       "    <tr>\n",
       "      <th>3</th>\n",
       "      <td>201801</td>\n",
       "      <td>AncillaryFFS</td>\n",
       "      <td>NaN</td>\n",
       "      <td>Payer W</td>\n",
       "      <td>268</td>\n",
       "    </tr>\n",
       "    <tr>\n",
       "      <th>4</th>\n",
       "      <td>201801</td>\n",
       "      <td>AncillaryFFS</td>\n",
       "      <td>ACH</td>\n",
       "      <td>Payer W</td>\n",
       "      <td>151</td>\n",
       "    </tr>\n",
       "  </tbody>\n",
       "</table>\n",
       "</div>"
      ],
      "text/plain": [
       "    MONTH SERVICE_CATEGORY CLAIM_SPECIALTY    PAYER  PAID_AMOUNT\n",
       "0  201801     AncillaryFFS             NaN  Payer F         4281\n",
       "1  201801     AncillaryFFS             NaN  Payer H         2221\n",
       "2  201801     AncillaryFFS             NaN  Payer O         3937\n",
       "3  201801     AncillaryFFS             NaN  Payer W          268\n",
       "4  201801     AncillaryFFS             ACH  Payer W          151"
      ]
     },
     "execution_count": 130,
     "metadata": {},
     "output_type": "execute_result"
    }
   ],
   "source": [
    "df.head()"
   ]
  },
  {
   "cell_type": "code",
   "execution_count": 73,
   "id": "29b4711f",
   "metadata": {},
   "outputs": [
    {
     "name": "stdout",
     "output_type": "stream",
     "text": [
      "               MONTH   PAID_AMOUNT\n",
      "count   52141.000000  5.214100e+04\n",
      "mean   201885.026409  3.723096e+03\n",
      "std        72.874367  3.450046e+04\n",
      "min    201801.000000  0.000000e+00\n",
      "25%    201808.000000  1.990000e+02\n",
      "50%    201903.000000  5.890000e+02\n",
      "75%    201911.000000  1.468000e+03\n",
      "max    202007.000000  2.268611e+06\n"
     ]
    }
   ],
   "source": [
    "print(df.describe())"
   ]
  },
  {
   "cell_type": "code",
   "execution_count": 14,
   "id": "2ea6ff31",
   "metadata": {},
   "outputs": [
    {
     "name": "stdout",
     "output_type": "stream",
     "text": [
      "       MONTH  SERVICE_CATEGORY  CLAIM_SPECIALTY  PAYER  PAID_AMOUNT\n",
      "0      False             False             True  False        False\n",
      "1      False             False             True  False        False\n",
      "2      False             False             True  False        False\n",
      "3      False             False             True  False        False\n",
      "4      False             False            False  False        False\n",
      "...      ...               ...              ...    ...          ...\n",
      "52147  False             False            False  False        False\n",
      "52148  False             False            False  False        False\n",
      "52149  False             False            False  False        False\n",
      "52150  False             False            False  False        False\n",
      "52151  False             False            False  False        False\n",
      "\n",
      "[52152 rows x 5 columns]\n"
     ]
    }
   ],
   "source": [
    "print(df.isnull())"
   ]
  },
  {
   "cell_type": "code",
   "execution_count": 137,
   "id": "0ace7e41",
   "metadata": {},
   "outputs": [
    {
     "name": "stdout",
     "output_type": "stream",
     "text": [
      "0        4281\n",
      "1        2221\n",
      "2        3937\n",
      "3         268\n",
      "4         151\n",
      "         ... \n",
      "52147     869\n",
      "52148      99\n",
      "52149     536\n",
      "52150    1064\n",
      "52151    2356\n",
      "Name: PAID_AMOUNT, Length: 52152, dtype: int64\n"
     ]
    }
   ],
   "source": [
    "df['PAID_AMOUNT'] = df['PAID_AMOUNT'].abs()\n",
    "print(df['PAID_AMOUNT'])"
   ]
  },
  {
   "cell_type": "code",
   "execution_count": 138,
   "id": "a711cf0b",
   "metadata": {},
   "outputs": [
    {
     "name": "stdout",
     "output_type": "stream",
     "text": [
      "        MONTH SERVICE_CATEGORY     CLAIM_SPECIALTY    PAYER  PAID_AMOUNT  \\\n",
      "0      201801     AncillaryFFS                 NaN  Payer F         4281   \n",
      "1      201801     AncillaryFFS                 NaN  Payer H         2221   \n",
      "2      201801     AncillaryFFS                 NaN  Payer O         3937   \n",
      "3      201801     AncillaryFFS                 NaN  Payer W          268   \n",
      "4      201801     AncillaryFFS                 ACH  Payer W          151   \n",
      "...       ...              ...                 ...      ...          ...   \n",
      "52147  202007   SpecialistsFFS  RADIATION ONCOLOGY  Payer F          869   \n",
      "52148  202007   SpecialistsFFS    REGISTERED NURSE  Payer H           99   \n",
      "52149  202007   SpecialistsFFS        RHEUMATOLOGY  Payer F          536   \n",
      "52150  202007   SpecialistsFFS    SPECIAL SERVICES  Payer H         1064   \n",
      "52151  202007   SpecialistsFFS             UROLOGY  Payer F         2356   \n",
      "\n",
      "            DATE  \n",
      "0     2018-01-01  \n",
      "1     2018-01-01  \n",
      "2     2018-01-01  \n",
      "3     2018-01-01  \n",
      "4     2018-01-01  \n",
      "...          ...  \n",
      "52147 2020-07-01  \n",
      "52148 2020-07-01  \n",
      "52149 2020-07-01  \n",
      "52150 2020-07-01  \n",
      "52151 2020-07-01  \n",
      "\n",
      "[52141 rows x 6 columns]\n"
     ]
    }
   ],
   "source": [
    "# Функция преобразования\n",
    "def convert_to_date(month_int):\n",
    "    date_str = str(month_int)\n",
    "    year = date_str[:4]\n",
    "    month = date_str[4:6]\n",
    "    if month not in ['01', '02', '03', '04', '05', '06', '07', '08', '09', '10', '11', '12']:\n",
    "        return None  # возвращает None для невалидных месяцев\n",
    "    return pd.to_datetime(f'{year}-{month}-01')\n",
    "\n",
    "# Применение функции к столбцу\n",
    "df['DATE'] = df['MONTH'].apply(convert_to_date)\n",
    "\n",
    "# Удаление строк с невалидными месяцами (где значение даты равно None)\n",
    "df = df.dropna(subset=['DATE'])\n",
    "#df.set_index('DATE', inplace=True)\n",
    "print(df)"
   ]
  },
  {
   "cell_type": "code",
   "execution_count": 140,
   "id": "28f4e379",
   "metadata": {
    "scrolled": false
   },
   "outputs": [
    {
     "data": {
      "image/png": "[encoded data removed]",
      "text/plain": [
       "<Figure size 640x480 with 1 Axes>"
      ]
     },
     "metadata": {},
     "output_type": "display_data"
    },
    {
     "name": "stdout",
     "output_type": "stream",
     "text": [
      "DATE\n",
      "2018-01-01    6977385\n",
      "2018-02-01    6441297\n",
      "2018-03-01    6453429\n",
      "2018-04-01    6772445\n",
      "2018-05-01    6947634\n",
      "2018-06-01    5899749\n",
      "2018-07-01    5889255\n",
      "2018-08-01    6326764\n",
      "2018-09-01    5900700\n",
      "2018-10-01    7175764\n",
      "2018-11-01    6522011\n",
      "2018-12-01    5845298\n",
      "2019-01-01    6284371\n",
      "2019-02-01    5672742\n",
      "2019-03-01    7198576\n",
      "2019-04-01    7125667\n",
      "2019-05-01    8628171\n",
      "2019-06-01    6150782\n",
      "2019-07-01    7480757\n",
      "2019-08-01    7410618\n",
      "2019-09-01    6521595\n",
      "2019-10-01    7160429\n",
      "2019-11-01    6728624\n",
      "2019-12-01    6673909\n",
      "2020-01-01    7464570\n",
      "2020-02-01    6463730\n",
      "2020-03-01    6550948\n",
      "2020-04-01    4988126\n",
      "2020-05-01    5426762\n",
      "2020-06-01    2913437\n",
      "2020-07-01     130410\n",
      "Name: PAID_AMOUNT, dtype: int64\n"
     ]
    }
   ],
   "source": [
    "monthly_expenses = df.groupby('DATE').sum()['PAID_AMOUNT'].abs()\n",
    "monthly_expenses.plot()\n",
    "plt.show()\n",
    "print(monthly_expenses)"
   ]
  },
  {
   "cell_type": "code",
   "execution_count": 141,
   "id": "a791df09",
   "metadata": {},
   "outputs": [
    {
     "name": "stdout",
     "output_type": "stream",
     "text": [
      "ADF статистика: -30.946289559407372\n",
      "p-значение: 0.0\n",
      "Критические значения:\n",
      "  1%: -3.4304761501511103\n",
      "  5%: -2.8615957558196237\n",
      "  10%: -2.5667996769711796\n"
     ]
    }
   ],
   "source": [
    "# Обработка пропущенных значений (если они есть)\n",
    "df.dropna(inplace=True)\n",
    "\n",
    "# Проверка стационарности ряда\n",
    "\n",
    "result = adfuller(df['PAID_AMOUNT'])\n",
    "print('ADF статистика:', result[0])\n",
    "print('p-значение:', result[1])\n",
    "print('Критические значения:')\n",
    "for key, value in result[4].items():\n",
    "    print(f'  {key}: {value}')"
   ]
  },
  {
   "cell_type": "code",
   "execution_count": 142,
   "id": "47807be0",
   "metadata": {
    "scrolled": true
   },
   "outputs": [
    {
     "name": "stdout",
     "output_type": "stream",
     "text": [
      "2020-08-01    407115.519339\n",
      "2020-09-01    310166.913666\n",
      "2020-10-01    344134.548878\n",
      "2020-11-01    332233.395335\n",
      "2020-12-01    336403.172088\n",
      "2021-01-01    334942.218063\n",
      "Freq: MS, Name: predicted_mean, dtype: float64\n",
      "                               SARIMAX Results                                \n",
      "==============================================================================\n",
      "Dep. Variable:            PAID_AMOUNT   No. Observations:                   31\n",
      "Model:                 ARIMA(1, 1, 1)   Log Likelihood                -459.732\n",
      "Date:                Fri, 03 Nov 2023   AIC                            925.463\n",
      "Time:                        20:11:52   BIC                            929.667\n",
      "Sample:                    01-01-2018   HQIC                           926.808\n",
      "                         - 07-01-2020                                         \n",
      "Covariance Type:                  opg                                         \n",
      "==============================================================================\n",
      "                 coef    std err          z      P>|z|      [0.025      0.975]\n",
      "------------------------------------------------------------------------------\n",
      "ar.L1         -0.3504      1.701     -0.206      0.837      -3.684       2.984\n",
      "ma.L1          0.2235      1.827      0.122      0.903      -3.356       3.803\n",
      "sigma2      1.346e+12   9.55e-12   1.41e+23      0.000    1.35e+12    1.35e+12\n",
      "===================================================================================\n",
      "Ljung-Box (L1) (Q):                   0.26   Jarque-Bera (JB):                 4.01\n",
      "Prob(Q):                              0.61   Prob(JB):                         0.13\n",
      "Heteroskedasticity (H):               5.61   Skew:                            -0.85\n",
      "Prob(H) (two-sided):                  0.01   Kurtosis:                         3.58\n",
      "===================================================================================\n",
      "\n",
      "Warnings:\n",
      "[1] Covariance matrix calculated using the outer product of gradients (complex-step).\n",
      "[2] Covariance matrix is singular or near-singular, with condition number 1.94e+39. Standard errors may be unstable.\n"
     ]
    },
    {
     "name": "stderr",
     "output_type": "stream",
     "text": [
      "C:\\Users\\Temirlan\\anaconda3\\lib\\site-packages\\statsmodels\\tsa\\base\\tsa_model.py:471: ValueWarning:\n",
      "\n",
      "No frequency information was provided, so inferred frequency MS will be used.\n",
      "\n",
      "C:\\Users\\Temirlan\\anaconda3\\lib\\site-packages\\statsmodels\\tsa\\base\\tsa_model.py:471: ValueWarning:\n",
      "\n",
      "No frequency information was provided, so inferred frequency MS will be used.\n",
      "\n",
      "C:\\Users\\Temirlan\\anaconda3\\lib\\site-packages\\statsmodels\\tsa\\base\\tsa_model.py:471: ValueWarning:\n",
      "\n",
      "No frequency information was provided, so inferred frequency MS will be used.\n",
      "\n"
     ]
    }
   ],
   "source": [
    "#После подготовки данных мы можем выбрать и обучить модель для прогнозирования. Для этого примера мы будем использовать модель ARIMA.\n",
    "train_data = monthly_expenses\n",
    "model = ARIMA(train_data, order=(1,1,1))\n",
    "model_fit = model.fit()\n",
    "forecast = model_fit.forecast(steps=6)\n",
    "print(forecast)\n",
    "print(model_fit.summary())\n"
   ]
  },
  {
   "cell_type": "code",
   "execution_count": 145,
   "id": "6c75fede",
   "metadata": {},
   "outputs": [
    {
     "name": "stdout",
     "output_type": "stream",
     "text": [
      "                DATE1  FUTURE_AMOUNT\n",
      "2020-08-01 2020-08-31  407115.519339\n",
      "2020-09-01 2020-09-30  310166.913666\n",
      "2020-10-01 2020-10-31  344134.548878\n",
      "2020-11-01 2020-11-30  332233.395335\n",
      "2020-12-01 2020-12-31  336403.172088\n",
      "2021-01-01 2021-01-31  334942.218063\n",
      "          MONTH SERVICE_CATEGORY                 CLAIM_SPECIALTY     PAYER  \\\n",
      "0      201801.0     AncillaryFFS                             ACH   Payer W   \n",
      "1      201801.0     AncillaryFFS  Advanced Registered Nurse Prac  Payer UN   \n",
      "2      201801.0     AncillaryFFS               ADVANCED RN PRACT  Payer CA   \n",
      "3      201801.0     AncillaryFFS                       AMBULANCE  Payer CA   \n",
      "4      201801.0     AncillaryFFS                       AMBULANCE  Payer CO   \n",
      "...         ...              ...                             ...       ...   \n",
      "51903       NaN              NaN                             NaN       NaN   \n",
      "51904       NaN              NaN                             NaN       NaN   \n",
      "51905       NaN              NaN                             NaN       NaN   \n",
      "51906       NaN              NaN                             NaN       NaN   \n",
      "51907       NaN              NaN                             NaN       NaN   \n",
      "\n",
      "       PAID_AMOUNT       DATE      DATE1  FUTURE_AMOUNT  \n",
      "0            151.0 2018-01-01        NaT            NaN  \n",
      "1              0.0 2018-01-01        NaT            NaN  \n",
      "2            443.0 2018-01-01        NaT            NaN  \n",
      "3          14890.0 2018-01-01        NaT            NaN  \n",
      "4           1722.0 2018-01-01        NaT            NaN  \n",
      "...            ...        ...        ...            ...  \n",
      "51903          NaN        NaT 2020-09-30  310166.913666  \n",
      "51904          NaN        NaT 2020-10-31  344134.548878  \n",
      "51905          NaN        NaT 2020-11-30  332233.395335  \n",
      "51906          NaN        NaT 2020-12-31  336403.172088  \n",
      "51907          NaN        NaT 2021-01-31  334942.218063  \n",
      "\n",
      "[51908 rows x 8 columns]\n"
     ]
    },
    {
     "name": "stderr",
     "output_type": "stream",
     "text": [
      "C:\\Users\\Temirlan\\AppData\\Local\\Temp\\ipykernel_17692\\2155736220.py:9: FutureWarning:\n",
      "\n",
      "The frame.append method is deprecated and will be removed from pandas in a future version. Use pandas.concat instead.\n",
      "\n"
     ]
    },
    {
     "data": {
      "image/png": "[encoded data removed]",
      "text/plain": [
       "<Figure size 1200x600 with 1 Axes>"
      ]
     },
     "metadata": {},
     "output_type": "display_data"
    }
   ],
   "source": [
    "# Прогноз на будущее (следующие 6 месяцев)\n",
    "forecast_future = model_fit.forecast(steps=6)\n",
    "\n",
    "# Создаем новый DataFrame для будущих значений\n",
    "future_dates = pd.date_range(start='2020-08-01', periods=6, freq='MS')\n",
    "forecast_df = pd.DataFrame({'DATE1': future_dates, 'FUTURE_AMOUNT': forecast_future})\n",
    "print(forecast_df)\n",
    "# Присоединяем прогноз к исходному DataFrame\n",
    "df = df.append(forecast_df, ignore_index=True)\n",
    "print(df)\n",
    "# Визуализация исходных данных и прогноза\n",
    "plt.figure(figsize=(12, 6))\n",
    "plt.plot(df['DATE'][:-6], df['PAID_AMOUNT'][:-6], label='Исходные данные')\n",
    "plt.plot(df['DATE1'][-6:], df['FUTURE_AMOUNT'][-6:], label='Прогноз')\n",
    "plt.title('Прогноз')\n",
    "plt.xlabel('DATE')\n",
    "plt.ylabel('PAID_AMOUNT')\n",
    "plt.legend()\n",
    "plt.grid(True)\n",
    "plt.show()"
   ]
  },
  {
   "cell_type": "code",
   "execution_count": 147,
   "id": "3b962140",
   "metadata": {},
   "outputs": [],
   "source": [
   "df = df.drop_duplicates()\n", 
   "df.to_csv('claims_data_pred')"
   ]
  },
  {
   "cell_type": "code",
   "execution_count": null,
   "id": "da152543",
   "metadata": {},
   "outputs": [],
   "source": []
  }
 ],
 "metadata": {
  "kernelspec": {
   "display_name": "Python 3 (ipykernel)",
   "language": "python",
   "name": "python3"
  },
  "language_info": {
   "codemirror_mode": {
    "name": "ipython",
    "version": 3
   },
   "file_extension": ".py",
   "mimetype": "text/x-python",
   "name": "python",
   "nbconvert_exporter": "python",
   "pygments_lexer": "ipython3",
   "version": "3.9.13"
  }
 },
 "nbformat": 4,
 "nbformat_minor": 5
}
